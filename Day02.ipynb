{
 "cells": [
  {
   "cell_type": "code",
   "execution_count": 13,
   "metadata": {},
   "outputs": [
    {
     "data": {
      "text/plain": [
       "'运算符 逻辑表达式 描述 实例 and x and y 布尔\"与\"：如果 x 为 False，x and y 返回 False，否则它返回 y 的值。 True and False， 返回 False。 or x or y 布尔\"或\"：如果 x 是 True，它返回 True，否则它返回 y 的值。 False or True， 返回 True。 not not x 布尔\"非\"：如果 x 为 True，返回 False 。如果 x 为 False，它返回 True。 not True 返回 False, not False 返回 True'"
      ]
     },
     "execution_count": 13,
     "metadata": {},
     "output_type": "execute_result"
    }
   ],
   "source": [
    "str = \"\"\"\n",
    "运算符\t逻辑表达式\t描述\t实例\n",
    "and\tx and y\t布尔\"与\"：如果 x 为 False，x and y 返回 False，否则它返回 y 的值。\tTrue and False， 返回 False。\n",
    "or\tx or y\t布尔\"或\"：如果 x 是 True，它返回 True，否则它返回 y 的值。\tFalse or True， 返回 True。\n",
    "not\tnot x\t布尔\"非\"：如果 x 为 True，返回 False 。如果 x 为 False，它返回 True。\tnot True 返回 False, not False 返回 True\n",
    "\"\"\"\n",
    "\n",
    "list1 = str.split()\n",
    "\" \".join(list1)"
   ]
  },
  {
   "cell_type": "code",
   "execution_count": 14,
   "metadata": {},
   "outputs": [
    {
     "data": {
      "text/plain": [
       "'运算符 | 逻辑表达式 | 描述 | 实例 | and | x | and | y | 布尔\"与\"：如果 | x | 为 | False，x | and | y | 返回 | False，否则它返回 | y | 的值。 | True | and | False， | 返回 | False。 | or | x | or | y | 布尔\"或\"：如果 | x | 是 | True，它返回 | True，否则它返回 | y | 的值。 | False | or | True， | 返回 | True。 | not | not | x | 布尔\"非\"：如果 | x | 为 | True，返回 | False | 。如果 | x | 为 | False，它返回 | True。 | not | True | 返回 | False, | not | False | 返回 | True'"
      ]
     },
     "execution_count": 14,
     "metadata": {},
     "output_type": "execute_result"
    }
   ],
   "source": [
    "\" | \".join(list1)"
   ]
  },
  {
   "cell_type": "code",
   "execution_count": 33,
   "metadata": {},
   "outputs": [
    {
     "name": "stdout",
     "output_type": "stream",
     "text": [
      "0\n",
      "1\n",
      "2\n",
      "3\n",
      "4\n",
      "5\n"
     ]
    }
   ],
   "source": [
    "while\n",
    "for i in range(6):\n",
    "    list1"
   ]
  },
  {
   "cell_type": "code",
   "execution_count": null,
   "metadata": {},
   "outputs": [],
   "source": [
    "for i in range(len(list1)//6)"
   ]
  },
  {
   "cell_type": "code",
   "execution_count": 41,
   "metadata": {},
   "outputs": [
    {
     "data": {
      "text/plain": [
       "21"
      ]
     },
     "execution_count": 41,
     "metadata": {},
     "output_type": "execute_result"
    }
   ],
   "source": [
    "len(\" | \".join(list1))//12"
   ]
  },
  {
   "cell_type": "code",
   "execution_count": 35,
   "metadata": {},
   "outputs": [],
   "source": [
    "import numpy as np"
   ]
  },
  {
   "cell_type": "code",
   "execution_count": null,
   "metadata": {},
   "outputs": [],
   "source": []
  },
  {
   "cell_type": "code",
   "execution_count": 30,
   "metadata": {},
   "outputs": [
    {
     "ename": "TypeError",
     "evalue": "list indices must be integers or slices, not range",
     "output_type": "error",
     "traceback": [
      "\u001b[1;31m---------------------------------------------------------------------------\u001b[0m",
      "\u001b[1;31mTypeError\u001b[0m                                 Traceback (most recent call last)",
      "\u001b[1;32m<ipython-input-30-fad52e626075>\u001b[0m in \u001b[0;36m<module>\u001b[1;34m\u001b[0m\n\u001b[1;32m----> 1\u001b[1;33m \u001b[0mlist1\u001b[0m\u001b[1;33m[\u001b[0m\u001b[0mrange\u001b[0m\u001b[1;33m(\u001b[0m\u001b[1;36m5\u001b[0m\u001b[1;33m)\u001b[0m\u001b[1;33m]\u001b[0m\u001b[1;33m\u001b[0m\u001b[1;33m\u001b[0m\u001b[0m\n\u001b[0m",
      "\u001b[1;31mTypeError\u001b[0m: list indices must be integers or slices, not range"
     ]
    }
   ],
   "source": [
    "list1[range(5)]"
   ]
  },
  {
   "cell_type": "code",
   "execution_count": 19,
   "metadata": {
    "collapsed": true,
    "jupyter": {
     "outputs_hidden": true
    }
   },
   "outputs": [
    {
     "data": {
      "text/plain": [
       "['\\xa0\\xa0\\xa0\\xa0\\xa0\\xa0\\xa0\\xa0\\xa0Etherboot',\n",
       " '\\n',\n",
       " '',\n",
       " '',\n",
       " '',\n",
       " '否',\n",
       " '\\n',\n",
       " '',\n",
       " '',\n",
       " '',\n",
       " '通过以太网卡启动linux系统的固件',\n",
       " '\\n',\n",
       " '',\n",
       " '是',\n",
       " '\\n',\n",
       " '',\n",
       " '',\n",
       " '',\n",
       " '否',\n",
       " '\\n',\n",
       " '',\n",
       " '',\n",
       " '',\n",
       " '否\\n',\n",
       " '',\n",
       " '',\n",
       " '',\n",
       " '\\xa0\\xa0\\xa0\\xa0\\xa0\\xa0\\xa0\\xa0\\xa0LinuxBOIS',\n",
       " '\\n',\n",
       " '',\n",
       " '',\n",
       " '',\n",
       " '否',\n",
       " '\\n',\n",
       " '',\n",
       " '',\n",
       " '',\n",
       " '完全替代BUIS的linux引导程序',\n",
       " '\\n',\n",
       " '',\n",
       " '',\n",
       " '',\n",
       " '是',\n",
       " '\\n',\n",
       " '',\n",
       " '',\n",
       " '否',\n",
       " '\\n',\n",
       " '',\n",
       " '',\n",
       " '否\\n',\n",
       " '',\n",
       " '',\n",
       " '',\n",
       " '\\xa0\\xa0\\xa0\\xa0\\xa0\\xa0\\xa0\\xa0\\xa0BLOB',\n",
       " '\\n',\n",
       " '',\n",
       " '',\n",
       " '',\n",
       " '是',\n",
       " '\\n',\n",
       " '',\n",
       " '',\n",
       " '',\n",
       " 'LART等硬件平台的引导程序',\n",
       " '\\n',\n",
       " '',\n",
       " '',\n",
       " '',\n",
       " '否',\n",
       " '\\n',\n",
       " '',\n",
       " '',\n",
       " '',\n",
       " '是',\n",
       " '\\n',\n",
       " '',\n",
       " '',\n",
       " '',\n",
       " '否\\n',\n",
       " '',\n",
       " '',\n",
       " '\\xa0\\xa0\\xa0\\xa0\\xa0\\xa0\\xa0\\xa0\\xa0U-boot',\n",
       " '\\n',\n",
       " '',\n",
       " '',\n",
       " '',\n",
       " '是',\n",
       " '\\n',\n",
       " '',\n",
       " '',\n",
       " '',\n",
       " '通用引导程序',\n",
       " '\\n',\n",
       " '',\n",
       " '',\n",
       " '',\n",
       " '是',\n",
       " '\\n',\n",
       " '',\n",
       " '',\n",
       " '',\n",
       " '是',\n",
       " '\\n',\n",
       " '',\n",
       " '',\n",
       " '',\n",
       " '是\\n',\n",
       " '',\n",
       " '',\n",
       " '',\n",
       " '\\xa0\\xa0\\xa0\\xa0\\xa0\\xa0\\xa0\\xa0\\xa0RedBoot',\n",
       " '\\n',\n",
       " '',\n",
       " '',\n",
       " '',\n",
       " '是',\n",
       " '\\n',\n",
       " '',\n",
       " '',\n",
       " '',\n",
       " '基于eCos的引导程序',\n",
       " '\\n',\n",
       " '',\n",
       " '',\n",
       " '',\n",
       " '是',\n",
       " '\\n',\n",
       " '',\n",
       " '',\n",
       " '',\n",
       " '是',\n",
       " '\\n',\n",
       " '',\n",
       " '',\n",
       " '',\n",
       " '是\\n',\n",
       " '',\n",
       " '',\n",
       " '',\n",
       " '\\xa0\\xa0\\xa0\\xa0\\xa0\\xa0\\xa0\\xa0\\xa0Vivi',\n",
       " '\\n',\n",
       " '',\n",
       " '',\n",
       " '',\n",
       " '是',\n",
       " '\\n',\n",
       " '',\n",
       " '',\n",
       " 'Mizi公司针对于三星的arm',\n",
       " 'cpu设计的\\n',\n",
       " '',\n",
       " '',\n",
       " '',\n",
       " '引导程序']"
      ]
     },
     "execution_count": 19,
     "metadata": {},
     "output_type": "execute_result"
    }
   ],
   "source": [
    "list1.remove(\"\")\n",
    "list1"
   ]
  },
  {
   "cell_type": "code",
   "execution_count": 22,
   "metadata": {},
   "outputs": [
    {
     "data": {
      "text/plain": [
       "['\\xa0\\xa0\\xa0\\xa0\\xa0\\xa0\\xa0\\xa0\\xa0Etherboot',\n",
       " '否',\n",
       " '通过以太网卡启动linux系统的固件',\n",
       " '是',\n",
       " '否',\n",
       " '否\\n',\n",
       " '\\xa0\\xa0\\xa0\\xa0\\xa0\\xa0\\xa0\\xa0\\xa0LinuxBOIS',\n",
       " '否',\n",
       " '完全替代BUIS的linux引导程序',\n",
       " '是',\n",
       " '否',\n",
       " '否\\n',\n",
       " '\\xa0\\xa0\\xa0\\xa0\\xa0\\xa0\\xa0\\xa0\\xa0BLOB',\n",
       " '是',\n",
       " 'LART等硬件平台的引导程序',\n",
       " '否',\n",
       " '是',\n",
       " '否\\n',\n",
       " '\\xa0\\xa0\\xa0\\xa0\\xa0\\xa0\\xa0\\xa0\\xa0U-boot',\n",
       " '是',\n",
       " '通用引导程序',\n",
       " '是',\n",
       " '是',\n",
       " '是\\n',\n",
       " '\\xa0\\xa0\\xa0\\xa0\\xa0\\xa0\\xa0\\xa0\\xa0RedBoot',\n",
       " '是',\n",
       " '基于eCos的引导程序',\n",
       " '是',\n",
       " '是',\n",
       " '是\\n',\n",
       " '\\xa0\\xa0\\xa0\\xa0\\xa0\\xa0\\xa0\\xa0\\xa0Vivi',\n",
       " '是',\n",
       " 'Mizi公司针对于三星的arm',\n",
       " 'cpu设计的\\n',\n",
       " '引导程序']"
      ]
     },
     "execution_count": 22,
     "metadata": {},
     "output_type": "execute_result"
    }
   ],
   "source": [
    "list2 = []\n",
    "for str in list1:\n",
    "    if(str.isalnum and str and str != '\\n'):\n",
    "        list2.append(str)\n",
    "        \n",
    "list2"
   ]
  },
  {
   "cell_type": "code",
   "execution_count": null,
   "metadata": {},
   "outputs": [],
   "source": []
  }
 ],
 "metadata": {
  "kernelspec": {
   "display_name": "Python 3",
   "language": "python",
   "name": "python3"
  },
  "language_info": {
   "codemirror_mode": {
    "name": "ipython",
    "version": 3
   },
   "file_extension": ".py",
   "mimetype": "text/x-python",
   "name": "python",
   "nbconvert_exporter": "python",
   "pygments_lexer": "ipython3",
   "version": "3.6.9"
  }
 },
 "nbformat": 4,
 "nbformat_minor": 4
}
