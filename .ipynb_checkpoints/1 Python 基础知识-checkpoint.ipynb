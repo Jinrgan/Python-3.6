{
 "cells": [
  {
   "cell_type": "markdown",
   "metadata": {},
   "source": [
    "[TOC]\n",
    "\n",
    "---"
   ]
  },
  {
   "cell_type": "markdown",
   "metadata": {
    "toc-hr-collapsed": true
   },
   "source": [
    "# 计算机的组成原理"
   ]
  },
  {
   "cell_type": "markdown",
   "metadata": {},
   "source": [
    "## 什么是计算机？\n",
    "计算机（computer）俗称电脑，是现代一种用于高速计算的电子机器，可以进行数值计算，又可以进行逻辑判断，还具有存储记忆功能，且能够按照程序的运行，自动、高速处理数据。\n",
    ">计算机是 20 世纪最先进的科学技术发明之一。"
   ]
  },
  {
   "cell_type": "markdown",
   "metadata": {},
   "source": [
    "## 计算机是由什么组成的？\n",
    "一个完整的计算机系统，是由硬件系统和软件系统两大部分组成的。\n",
    "![e32cbd34f89772f474393943196c6d2f.png](en-resource://database/15077:1)"
   ]
  },
  {
   "cell_type": "markdown",
   "metadata": {},
   "source": [
    "## 硬件系统\n",
    "主要分为主机和外设两部分，是指那些构成计算机系统的物理实体，它们主要由各种各样的电子器件和机电装置组成。\n",
    "\n",
    "从 ENIAC（世界上第一台计算机）到当前最先进的计算机，硬件系统的设计采用的都是**冯·诺依曼体系结构**。\n",
    "\n",
    "![21e52d0cb11a46556e9f0faf33a57263.png](en-resource://database/15079:1)\n",
    "\n",
    "> 运算器:　负责数据的算术运算和逻辑运算，即数据的加工处理。\n",
    "> \n",
    "> 控制器:　是整个计算机的中枢神经，分析程序规定的控制信息，并根据程序要求进行控制，协调计算机各部分组件工作及内存与外设的访问等。\n",
    "> \n",
    "> > 运算器和控制器统称中央处理器（即 CPU）\n",
    "> > \n",
    "> 存储器:　实现记忆功能的部件，用来存储程序、数据和各种信号、命令等信息，并在需要时提供这些信息。\n",
    "> 输入设备:　实现将程序、原始数据、文字、字符、控制命令或现场采集的数据等信息输入到计算机。\n",
    "> 输出设备:　实现将计算机处理后生成的中间结果或最后结果（各种数据符号及文字或各种控制信号等信息）输出出来。"
   ]
  },
  {
   "cell_type": "markdown",
   "metadata": {},
   "source": [
    "## 软件系统\n",
    "主要分为系统软件和应用软件，是指计算机证运行所需的各种各样的计算机程序。\n",
    "\n",
    "系统软件的任务是既要保证计算机硬件的正常工作，又要使计算机硬件的性能得到充分发挥，并且为计算机用户提供一个比较直观、方便和友好的使用界面。\n",
    "\n",
    "操作系统：是一种方便用户管理和控制计算机软硬件资源的系统软件，同时也是一个大型的软件系统，其功能复杂，体系庞大，在整个计算机系统中具有承上启下的地位。我们操作计算机实际上是通过操作系统来进行的，它是所有软件的基础和核心。\n",
    "\n",
    "语言处理程序：也称为编译程序，作用是把程序员用某种编程语言(如Python)所编写的程序，翻译成计算机可执行的机器语言。机器语言也被称为机器码，是可以通过CPU进行分析和执行的指令集。\n",
    "![5fa46e658ce845d4c54d02279f9484e2.png](en-resource://database/15081:1)"
   ]
  },
  {
   "cell_type": "markdown",
   "metadata": {},
   "source": [
    "## 计算机是如何处理程序的？\n",
    "按照冯·诺依曼存储程序的原理，计算机的工作流程大致如下：\n",
    "\n",
    "1. 用户打开程序，程序开始执行；\n",
    "2. 操作系统将程序内容和相关数据送入计算机的内存；\n",
    "3. CPU 根据程序内容从内存中读取指令；\n",
    "4. CPU 分析、处理指令，并为取下一条指令做准备；\n",
    "5. 取下一条指令并分析、处理，如此重复操作，直至执行完程序中全部指令，最后将计算的结果放入指令指定的存储器地址中。"
   ]
  },
  {
   "cell_type": "markdown",
   "metadata": {},
   "source": [
    "## 编程语言是什么？\n",
    "是用来定义 计算机程序的形式语言。我们通过编程语言来编写程序代码，再通过语言处理程序执行向计算机发送指令，让计算机完成对应的工作。\n",
    "\n",
    "简单来说，编程语言就是人类和计算机进行交流的语言。"
   ]
  },
  {
   "cell_type": "markdown",
   "metadata": {},
   "source": [
    "## 什么是 Python？\n",
    "Python 就是一门编程语言，而且是现在世界上最流行的编程语言之一。"
   ]
  },
  {
   "cell_type": "markdown",
   "metadata": {
    "toc-hr-collapsed": true
   },
   "source": [
    "# 认识 python(了解)"
   ]
  },
  {
   "cell_type": "markdown",
   "metadata": {},
   "source": [
    "## Python 发展背景\n",
    "\n",
    "Python 的作者，Guido von Rossum（吉多·范·罗苏姆，中国 Python 程序员都叫他龟叔），荷兰人。1982年，龟叔从阿姆斯特丹大学获得了数学和计算机硕士学位。然而，尽管他算得上是一位数学家，但他更加享受计算机带来的乐趣。用他的话说，虽然拥有数学和计算机双料资质，他总趋向于做计算机相关的工作，并热衷于做任何和编程相关的事情。\n",
    "\n",
    "在那个时候，龟叔接触并使用过诸如 Pascal、C、Fortran 等语言。这些语言的基本设计原则是让机器能更快运行。在 80 年代，虽然 IBM 和苹果已经掀起了个人电脑浪潮，但这些个人电脑的配置很低。比如早期的Macintosh，只有 8 MHz 的 CPU 主频和 128 KB 的 RAM，一个大的数组就能占满内存。所有的编译器的核心是做优化，以便让程序能够运行。为了增进效率，语言也迫使程序员像计算机一样思考，以便能写出更符合机器口味的程序。在那个时代，程序员恨不得用手榨取计算机每一寸的能力。有人甚至认为 C 语言的指针是在浪费内存。至于动态类型，内存自动管理，面向对象…… 别想了，那会让你的电脑陷入瘫痪。\n",
    "\n",
    "这种编程方式让龟叔感到苦恼。龟叔知道如何用 C 语言写出一个功能，但整个编写过程需要耗费大量的时间，即使他已经准确的知道了如何实现。他的另一个选择是 shell。Bourne Shell 作为 UNIX 系统的解释器已经长期存在。UNIX 的管理员们常常用 shell 去写一些简单的脚本，以进行一些系统维护的工作，比如定期备份、文件系统管理等等。shell 可以像胶水一样，将 UNIX下 的许多功能连接在一起。许多 C 语言下上百行的程序，在 shell 下只用几行就可以完成。然而，shell 的本质是调用命令。它并不是一个真正的语言。比如说，shell 没有数值型的数据类型，加法运算都很复杂。总之，shell 不能全面的调动计算机的功能。\n",
    "\n",
    "龟叔希望有一种语言，这种语言能够像 C 语言那样，能够全面调用计算机的功能接口，又可以像 shell 那样，可以轻松的编程。ABC 语言让龟叔看到希望。ABC 是由荷兰的数学和计算机研究所开发的。龟叔在该研究所工作，并参与到 ABC 语言的开发。ABC 语言以教学为目的。与当时的大部分语言不同，ABC 语言的目标是“让用户感觉更好”。ABC 语言希望让语言变得容易阅读，容易使用，容易记忆，容易学习，并以此来激发人们学习编程的兴趣。比如下面是一段来自 Wikipedia 的 ABC 程序，这个程序用于统计文本中出现的词的总数：\n",
    "```ABC\n",
    "HOW TO RETURN words document:\n",
    "   PUT {} IN collection\n",
    "   FOR line IN document:\n",
    "      FOR word IN split line:\n",
    "         IF word not.in collection:\n",
    "            INSERT word IN collection\n",
    "   RETURN collection\n",
    "```\n",
    "\n",
    "`HOW TO` 用于定义一个函数。一个 Python 程序员应该很容易理解这段程序。ABC 语言使用冒号和缩进来表示程序块。行尾没有分号。`for` 和 `if` 结构中也没有括号 `()`。赋值采用的是 `PUT`，而不是更常见的等号。这些改动让 ABC 程序读起来像一段文字。\n",
    "\n",
    "尽管已经具备了良好的可读性和易用性，ABC 语言最终没有流行起来。在当时，ABC 语言编译器需要比较高配置的电脑才能运行。而这些电脑的使用者通常精通计算机，他们更多考虑程序的效率，而非它的学习难度。除了硬件上的困难外，ABC 语言的设计也存在一些致命的问题：\n",
    "\n",
    "* 可拓展性差。ABC 语言不是模块化语言。如果想在 ABC 语言中增加功能，比如对图形化的支持，就必须改动很多地方。\n",
    "* 不能直接进行 IO。ABC 语言不能直接操作文件系统。尽管你可以通过诸如文本流的方式导入数据，但 ABC 无法直接读写文件。输入输出的困难对于计算机语言来说是致命的。你能想像一个打不开车门的跑车么？\n",
    "* 过度革新。ABC 用自然语言的方式来表达程序的意义，比如上面程序中的 `HOW TO`。然而对于程序员来说，他们更习惯用 `function` 或者 `define` 来定义一个函数。同样，程序员更习惯用等号来分配变量。尽管 ABC 语言很特别，但学习难度也很大。\n",
    "* 传播困难。ABC 编译器很大，必须被保存在磁带上。当时龟叔在访问的时候，就必须有一个大磁带来给别人安装ABC编 译器。 这样，ABC语言就很难快速传播。\n",
    "\n",
    "1989 年，为了打发圣诞节假期，龟叔开始写 Python 语言的编译器。Python 这个名字，来自龟叔所挚爱的电视剧 Monty Python's Flying Circus。他希望这个新的叫做 Python 的语言，能符合他的理想：创造一种 C 和 shell 之间，功能全面，易学易用，可拓展的语言。龟叔作为一个语言设计爱好者，已经有过设计语言的尝试。这一次，也不过是一次纯粹的 hacking 行为。"
   ]
  },
  {
   "cell_type": "markdown",
   "metadata": {
    "toc-hr-collapsed": true
   },
   "source": [
    "## Python 语言的诞生\n",
    "1991年，第一个 Python 编译器诞生。它是用 C 语言实现的，并能够调用 C 语言的库文件。从一出生， Python 已经具有了 ：类，函数，异常处理，包含表和词典在内的核心数据类型，以及模块为基础的拓展系统。\n",
    "\n",
    "Python 语法很多来自 C，但又受到 ABC 语言的强烈影响。来自 ABC 语言的一些规定直到今天还富有争议，比如强制缩进。 但这些语法规定让 Python 容易读。另一方面，Python 聪明的选择服从一些惯例，特别是C语言的惯例，比如回归等号赋值。龟叔认为，如果“常识”上确立的东西，没有必要过度纠结。\n",
    "\n",
    "Python 从一开始就特别在意可拓展性。Python 可以在多个层次上拓展。从高层上，你可以直接引入 `.py` 文件。在底层，你可以引用 C 语言的库。Python 程序员可以快速的使用 Python 写 `.py` 文件作为拓展模块。但当性能是考虑的重要因素时，Python 程序员可以深入底层，写 C 程序，编译为 `.so` 文件引入到 Python 中使用。Python 就好像是使用钢构建房一样，先规定好大的框架。而程序员可以在此框架下相当自由的拓展或更改。\n",
    "\n",
    "最初的 Python 完全由龟叔本人开发。Python 得到龟叔同事的欢迎。他们迅速的反馈使用意见，并参与到 Python 的改进。龟叔和一些同事构成 Python 的核心团队。他们将自己大部分的业余时间用于 hack Python。随后，Python 拓展到研究所之外。Python 将许多机器层面上的细节隐藏，交给编译器处理，并凸显出逻辑层面的编程思考。Python 程序员可以花更多的时间用于思考程序的逻辑，而不是具体的实现细节。这一特征吸引了广大的程序员。Python 开始流行。\n",
    "![edb58fa80dbfb5ee9ccb669581dcfdbb.png](en-resource://database/15083:1)\n",
    ">人生苦短，我用 python\n",
    "\n",
    "计算机硬件越来越强大，Python 又容易使用，所以许多人开始转向 Python。龟叔维护了一个 mail list，Python 用户就通过邮件进行交流。Python 用户来自许多领域，有不同的背景，对 Python 也有不同的需求。Python 相当的开放，又容易拓展，所以当用户不满足于现有功能，很容易对 Python 进行拓展或改造。随后，这些用户将改动发给龟叔，并由龟叔决定是否将新的特征加入到 Python 或者标准库中。如果代码能被纳入 Python 自身或者标准库，这将极大的荣誉。由于龟叔至高无上的决定权，他因此被称为“终身的仁慈独裁者”。\n",
    "\n",
    "Python 以及其标准库的功能强大。这些是整个社区的贡献。Python 的开发者来自不同领域，他们将不同领域的优点带给 Python。比如 Python 标准库中的正则表达是参考 Perl，而 `lambda`，`map`，`filter`，`reduce` 等函数参考了 Lisp。Python 本身的一些功能以及大部分的标准库来自于社区。Python 的社区不断扩大，进而拥有了自己的 newsgroup，网站，以及基金。从 Python 2. 0开始，Python 也从 mail list 的开发方式，转为完全开源的开发方式。社区气氛已经形成，工作被整个社区分担，Python 也获得了更加高速的发展。\n",
    "\n",
    "到今天，Python 的框架已经确立。Python语 言以对象为核心组织代码，支持多种编程范式，采用动态类型，自动进行内存回收。Python 支持解释运行，并能调用 C 库进行拓展。Python 有强大的标准库。由于标准库的体系已经稳定，所以 Python 的生态系统开始拓展到第三方包。这些包，如 Django、web.py、wxpython、numpy、matplotlib、PIL，将 Python 升级成了物种丰富的热带雨林。\n",
    "\n",
    "Python 崇尚优美、清晰、简单，是一个优秀并广泛使用的语言。Python 在 TIOBE 排行榜中排行第八，它是 Google 的第三大开发语言，Dropbox 的基础语言，豆瓣的服务器语言。Python 的发展史可以作为一个代表，带给我许多启示。\n",
    "\n",
    "在 Python 的开发过程中，社区起到了重要的作用。龟叔自认为自己不是全能型的程序员，所以他只负责制订框架。如果问题太复杂，他会选择绕过去，也就是 cut the corner。这些问题最终由社区中的其他人解决。社区中的人才是异常丰富的，就连创建网站，筹集基金这样与开发稍远的事情，也有人乐意于处理。如今的项目开发越来越复杂，越来越庞大，合作以及开放的心态成为项目最终成功的关键。\n",
    "\n",
    "Python 从其他语言中学到了很多，无论是已经进入历史的 ABC，还是依然在使用的 C 和 Perl，以及许多没有列出的其他语言。可以说，Python 的成功代表了它所有借鉴的语言的成功。同样，Ruby 借鉴了 Python，它的成功也代表了 Python 某些方面的成功。每个语言都是混合体，都有它优秀的地方，但也有各种各样的缺陷。同时，一个语言“好与不好”的评判，往往受制于平台、硬件、时代等等外部原因。程序员经历过许多语言之争。其实，以开放的心态来接受各个语言，说不定哪一天，程序员也可以如龟叔那样，混合出自己的语言。\n"
   ]
  },
  {
   "cell_type": "markdown",
   "metadata": {},
   "source": [
    "### 关键点常识\n",
    "\n",
    "* Python 的发音与拼写\n",
    "* Python 的作者是 Guido van Rossum（龟叔）\n",
    "* Python 正式诞生于 1991 年\n",
    "* Python 的解释器如今有多个语言实现，我们常用的是 CPython（官方版本的 C 语言实现），其他还有Jython（可以运行在 Java 平台）、IronPython（可以运行在 .NET 和 Mono 平台）、PyPy（Python 实现的，支持 JIT 即时编译）\n",
    "* Python 目前有两个版本，Python2 和 Python3，最新版分别为2.7.13和3.6.2\n",
    "* Life is shot, you need Python. 人生苦短，我用 Python。\n",
    "\n",
    "![e1acd8329f3ed4dbca78a28d05163613.png](en-resource://database/15085:1)\n",
    "（2017 年 8 月，TIOBE 编程语言流行排行榜）"
   ]
  },
  {
   "cell_type": "markdown",
   "metadata": {},
   "source": [
    "## Python 优缺点\n",
    "优点\n",
    "\n",
    "* 简单：Python 是一种代表简单主义思想的语言。阅读一个良好的 Python 程序就感觉像是在读英语一样，尽管这个英语的要求非常严格！Python 的这种伪代码本质是它最大的优点之一。它使你能够专注于解决问题而不是去搞明白语言本身。\n",
    "* 易学：就如同你即将看到的一样，Python 极其容易上手。前面已经提到了，Python 有极其简单的语法。\n",
    "* 免费、开源：Python 是 FLOSS（自由/开放源码软件）之一。简单地说，你可以自由地发布这个软件的拷贝、阅读它的源代码、对它做改动、把它的一部分用于新的自由软件中。FLOSS 是基于一个团体分享知识的概念。这是为什么 Python 如此优秀的原因之一——它是由一群希望看到一个更加优秀的 Python 的人创造并经常改进着的。\n",
    "* 高层语言：当你用 Python 语言编写程序的时候，你无需考虑诸如如何管理你的程序使用的内存一类的底层细节。\n",
    "* 可移植性：由于它的开源本质，Python 已经被移植在许多平台上（经过改动使它能够工作在不同平台上）。如果你小心地避免使用依赖于系统的特性，那么你的所有 Python 程序无需修改就可以在下述任何平台上面运行。这些平台包括 Linux、Windows、FreeBSD、Macintosh、Solaris、OS/2、Amiga、AROS、AS/400、BeOS、OS/390、z/OS、Palm OS、QNX、VMS、Psion、Acom RISC OS、VxWorks、PlayStation、Sharp Zaurus、Windows CE 甚至还有 PocketPC、Symbian 以及 Google 基于 linux 开发的 Android 平台！\n",
    "* 解释型语言：一个用编译型语言比如 C 或 C++ 写的程序可以从源文件（即 C 或 C++ 语言）转换到一个你的计算机使用的语言（二进制代码，即 0 和 1）。这个过程通过编译器和不同的标记、选项完成。当你运行你的程序的时候，连接/转载器软件把你的程序从硬盘复制到内存中并且运行。而 Python 语言写的程序不需要编译成二进制代码。你可以直接从源代码运行程序。在计算机内部，Python 解释器把源代码转换成称为字节码的中间形式，然后再把它翻译成计算机使用的机器语言并运行。事实上，由于你不再需要担心如何编译程序，如何确保连接转载正确的库等等，所有这一切使得使用 Python 更加简单。由于你只需要把你的 Python 程序拷贝到另外一台计算机上，它就可以工作了，这也使得你的 Python 程序更加易于移植。\n",
    "* 面向对象：Python 既支持面向过程的编程也支持面向对象的编程。在“面向过程”的语言中，程序是由过程或仅仅是可重用代码的函数构建起来的。在“面向对象”的语言中，程序是由数据和功能组合而成的对象构建起来的。与其他主要的语言如 C++ 和 Java 相比，Python 以一种非常强大又简单的方式实现面向对象编程。\n",
    "* 可扩展性：如果你需要你的一段关键代码运行得更快或者希望某些算法不公开，你可以把你的部分程序用 C 或 C++ 编写，然后在你的 Python 程序中使用它们。\n",
    "* 丰富的库：Python 标准库确实很庞大。它可以帮助你处理各种工作，包括正则表达式、文档生成、单元测试、线程、数据库、网页浏览器、CGI、FTP、电子邮件、XML、XML-RPC、HTML、WAV文件、密码系统、GUI（图形用户界面）、Tk 和其他与系统有关的操作。记住，只要安装了 Python，所有这些功能都是可用的。这被称作 Pytho n的“功能齐全”理念。除了标准库以外，还有许多其他高质量的库，如 wxPython、Twisted 和 Python 图像库等等。\n",
    "* 规范的代码：Python 采用强制缩进的方式使得代码具有极佳的可读性。\n",
    "\n",
    "缺点：Python 语言非常完善，没有明显的短板和缺点，唯一的缺点就是执行效率慢，这个是解释型语言所通有的，同时这个缺点也将被计算机越来越强大的性能所弥补。"
   ]
  },
  {
   "cell_type": "markdown",
   "metadata": {},
   "source": [
    "## Python 应用场景\n",
    "Web 应用开发\n",
    "\n",
    "* Python 经常被用于 Web 开发。比如，通过 mod_wsgi 模块，Apache 可以运行用 Python 编写的 Web 程序。Python 定义了 WSGI 标准应用接口来协调 Http 服务器与基于 Python 的 Web 程序之间的通信。一些 Web 框架，如 Django、TurboGears、web2py、Zope等，可以让程序员轻松地开发和管理复杂的 Web 程序。\n",
    "\n",
    "操作系统管理、服务器运维的自动化脚本\n",
    "\n",
    "* 在很多操作系统里，Python 是标准的系统组件。 大多数 Linux 发行版以及 NetBSD、OpenBSD 和 Mac OS X 都集成了 Python，可以在终端下直接运行 Python。有一些 Linux 发行版的安装器使用 Python 语言编写，比如 Ubuntu 的 Ubiquity 安装器，Red Hat Linux 和 Fedora 的 Anaconda 安装器。Gentoo Linux 使用 Python 来编写它的 Portage 包管理系统。Python 标准库包含了多个调用操作系统功能的库。通过 pywin32 这个第三方软件包，Python 能够访问 Windows 的 COM 服务及其它 Windows API。使用IronPython，Python 程序能够直接调用 .Net Framework。一般说来，Python 编写的系统管理脚本在可读性、性能、代码重用度、扩展性几方面都优于普通的 shell 脚本。\n",
    "\n",
    "网络爬虫\n",
    "\n",
    "* Python 有大量的 HTTP 请求处理库和 HTML 解析库，并且有成熟高效的爬虫框架 Scrapy 和分布式解决方案 scrapy-redis，在爬虫的应用方面非常广泛。\n",
    "\n",
    "科学计算\n",
    "\n",
    "* NumPy、SciPy、Pandas、Matplotlib 可以让 Python 程序员编写科学计算程序。\n",
    "\n",
    "桌面软件\n",
    "\n",
    "* PyQt、PySide、wxPython、PyGTK 是 Python 快速开发桌面应用程序的利器。\n",
    "\n",
    "服务器软件（网络软件）\n",
    "\n",
    "* Python 对于各种网络协议的支持很完善，因此经常被用于编写服务器软件、网络爬虫。第三方库 Twisted 支持异步网络编程和多数标准的网络协议(包含客户端和服务器)，并且提供了多种工具，被广泛用于编写高性能的服务器软件。\n",
    "\n",
    "游戏\n",
    "\n",
    "* 很多游戏使用 C++ 编写图形显示等高性能模块，而使用 Python 或者 Lua 编写游戏的逻辑、服务器。相较于 Python，Lua 的功能更简单、体积更小；而 Python 则支持更多的特性和数据类型。\n",
    "\n",
    "构思实现，产品早期原型和迭代\n",
    "\n",
    "* Google、NASA、Facebook 都在内部大量地使用 Python。"
   ]
  },
  {
   "cell_type": "markdown",
   "metadata": {},
   "source": [
    "# 使用 Pycharm 编写第一个 python 程序\n",
    "\n",
    "打开 Pycharm，选择 `Create New Project`，创建一个新项目\n",
    "![faefe9ac9189a0a31bce83addb921233.png](en-resource://database/15087:1)\n",
    "\n",
    "选择 `Pure Python` 表示创建一个纯 Pytho n程序项目，`Location` 表示该项目保存的路径，`Interpreter` 表示使用的 `Python` 解释器版本，最后点击 `Create` 创建项目。\n",
    "![d97112513e92dab3f2dc1947e863136d.png](en-resource://database/15089:1)\n",
    "\n",
    "右击项目，选择 `New`，再选择 `Python File`\n",
    "![5921406027c8a8ac780ef00947b95c74.png](en-resource://database/15091:1)\n",
    "\n",
    "在弹出的对话框中输入的文件名 `HelloPython`，点击 `OK`，表示创建一个 Python 程序的文本文件，文本文件后缀名默认 `.py`\n",
    "![7953ff99087c4e603e8176e61c9f3507.png](en-resource://database/15093:1)\n",
    "\n",
    "输入以下代码，并右击空白处，选择 `Run` 运行，表示打印一个字符串\"Hello World!\"。\n"
   ]
  },
  {
   "cell_type": "code",
   "execution_count": 1,
   "metadata": {},
   "outputs": [
    {
     "name": "stdout",
     "output_type": "stream",
     "text": [
      "Hello World!\n"
     ]
    }
   ],
   "source": [
    "print(\"Hello World!\")"
   ]
  },
  {
   "cell_type": "markdown",
   "metadata": {},
   "source": [
    "![9c7cc45f7bf957ccd9c943b70e779714.png](en-resource://database/15095:1)\n",
    "\n",
    "运行成功后，Pycharm Console 窗口将显示我们的输出结果。\n",
    "![dc74280bda44d217d60ecee957919a1d.png](en-resource://database/15097:1)"
   ]
  },
  {
   "cell_type": "markdown",
   "metadata": {},
   "source": [
    "## 练一练\n",
    "要求：编写一个程序，输出 `itcast.cn`\n"
   ]
  },
  {
   "cell_type": "markdown",
   "metadata": {
    "toc-hr-collapsed": true
   },
   "source": [
    "# 注释"
   ]
  },
  {
   "cell_type": "markdown",
   "metadata": {},
   "source": [
    "## 注释的引入\n",
    "看以下程序示例（未使用注释）\n",
    "![0f3be64ee6bb9711c141afe135b5bb04.png](en-resource://database/15099:1)\n",
    "\n",
    "看以下程序示例（使用注释）\n",
    "![851d8caa7e1434d54946947c267c93ec.png](en-resource://database/15101:1)\n",
    "\n",
    "注释的作用：通过用自己熟悉的语言，在程序中对某些代码进行标注说明，这就是注释的作用，能够大大增强程序的可读性"
   ]
  },
  {
   "cell_type": "markdown",
   "metadata": {},
   "source": [
    "## 注释的分类"
   ]
  },
  {
   "cell_type": "markdown",
   "metadata": {},
   "source": [
    "### 单行注释\n",
    "以 `#` 开头，`#` 右边的所有东西当做说明，而不是真正要执行的程序，起辅助说明作用"
   ]
  },
  {
   "cell_type": "code",
   "execution_count": 3,
   "metadata": {},
   "outputs": [
    {
     "name": "stdout",
     "output_type": "stream",
     "text": [
      "hello world\n"
     ]
    }
   ],
   "source": [
    "# 我是注释，可以在里写一些功能说明之类的哦\n",
    "print('hello world')"
   ]
  },
  {
   "cell_type": "markdown",
   "metadata": {},
   "source": [
    "### 多行注释"
   ]
  },
  {
   "cell_type": "code",
   "execution_count": 7,
   "metadata": {},
   "outputs": [
    {
     "name": "stdout",
     "output_type": "stream",
     "text": [
      "╔═╤═╤═╤═╤═╤═╤═╤═╤═╤═╤═╤═╤═╤═╤═╤═╤═╤═╤═╤═╗\n",
      "║　│　│　│　│　│　│　│　│　│　│　│　│　│　│　│　│　│　│　│  ║\n",
      "║　│　│　│　│　│　│　│　│　│　│　│　│　│　│　│　│　│　│　│　║\n",
      "║　│春│滟│江│空│江│江│人│不│白│谁│可│玉│此│鸿│昨│江│斜│不│　║\n",
      "║　│江│滟│流│里│天│畔│生│知│云│家│怜│户│时│雁│夜│水│月│知│　║\n",
      "║　│潮│随│宛│流│一│何│代│江│一│今│楼│帘│相│长│闲│流│沉│乘│　║\n",
      "║　│水│波│转│霜│色│人│代│月│片│夜│上│中│望│飞│潭│春│沉│月│　║\n",
      "║　│连│千│绕│不│无│初│无│待│去│扁│月│卷│不│光│梦│去│藏│几│　║\n",
      "║春│海│万│芳│觉│纤│见│穷│何│悠│舟│徘│不│相│不│落│欲│海│人│　║\n",
      "║江│平│里│甸│飞│尘│月│已│人│悠│子│徊│去│闻│度│花│尽│雾│归│　║\n",
      "║花│，│，│，│，│，│，│，│，│，│，│，│，│，│，│，│，│，│，│　║\n",
      "║月│海│何│月│汀│皎│江│江│但│青│何│应│捣│愿│鱼│可│江│碣│落│　║\n",
      "║夜│上│处│照│上│皎│月│月│见│枫│处│照│衣│逐│龙│怜│潭│石│月│　║\n",
      "║　│明│春│花│白│空│何│年│长│浦│相│离│砧│月│潜│春│落│潇│摇│　║\n",
      "║　│月│江│林│沙│中│年│年│江│上│思│人│上│华│跃│半│月│湘│情│　║\n",
      "║　│共│无│皆│看│孤│初│望│送│不│明│妆│拂│流│水│不│复│无│满│　║\n",
      "║　│潮│月│似│不│月│照│相│流│胜│月│镜│还│照│成│还│西│限│江│　║\n",
      "║　│生│明│霰│见│轮│人│似│水│愁│楼│台│来│君│文│家│斜│路│树│　║\n",
      "║　│。│。│。│。│。│？│。│。│。│？│。│。│。│。│。│。│。│。│　║\n",
      "║　│　│　│　│　│　│　│　│　│　│　│　│　│　│　│　│　│　│　│　║\n",
      "║　│　│　│　│　│　│　│　│　│　│　│　│　│　│　│　│　│　│　│　║\n",
      "╚═╧═╧═╧═╧═╧═╧═╧═╧═╧═╧═╧═╧═╧═╧═╧═╧═╧═╧═╧═╝\n"
     ]
    }
   ],
   "source": [
    "'''\n",
    "    我是多行注释，可以写很多很多行的功能说明\n",
    "\n",
    "    下面的代码完成 ，打印一首诗\n",
    "    名字叫做：春江花月夜\n",
    "'''\n",
    "\n",
    "print('╔═╤═╤═╤═╤═╤═╤═╤═╤═╤═╤═╤═╤═╤═╤═╤═╤═╤═╤═╤═╗')\n",
    "print('║　│　│　│　│　│　│　│　│　│　│　│　│　│　│　│　│　│　│　│  ║')\n",
    "print('║　│　│　│　│　│　│　│　│　│　│　│　│　│　│　│　│　│　│　│　║')\n",
    "print('║　│春│滟│江│空│江│江│人│不│白│谁│可│玉│此│鸿│昨│江│斜│不│　║')\n",
    "print('║　│江│滟│流│里│天│畔│生│知│云│家│怜│户│时│雁│夜│水│月│知│　║')\n",
    "print('║　│潮│随│宛│流│一│何│代│江│一│今│楼│帘│相│长│闲│流│沉│乘│　║')\n",
    "print('║　│水│波│转│霜│色│人│代│月│片│夜│上│中│望│飞│潭│春│沉│月│　║')\n",
    "print('║　│连│千│绕│不│无│初│无│待│去│扁│月│卷│不│光│梦│去│藏│几│　║')\n",
    "print('║春│海│万│芳│觉│纤│见│穷│何│悠│舟│徘│不│相│不│落│欲│海│人│　║')\n",
    "print('║江│平│里│甸│飞│尘│月│已│人│悠│子│徊│去│闻│度│花│尽│雾│归│　║')\n",
    "print('║花│，│，│，│，│，│，│，│，│，│，│，│，│，│，│，│，│，│，│　║')\n",
    "print('║月│海│何│月│汀│皎│江│江│但│青│何│应│捣│愿│鱼│可│江│碣│落│　║')\n",
    "print('║夜│上│处│照│上│皎│月│月│见│枫│处│照│衣│逐│龙│怜│潭│石│月│　║')\n",
    "print('║　│明│春│花│白│空│何│年│长│浦│相│离│砧│月│潜│春│落│潇│摇│　║')\n",
    "print('║　│月│江│林│沙│中│年│年│江│上│思│人│上│华│跃│半│月│湘│情│　║')\n",
    "print('║　│共│无│皆│看│孤│初│望│送│不│明│妆│拂│流│水│不│复│无│满│　║')\n",
    "print('║　│潮│月│似│不│月│照│相│流│胜│月│镜│还│照│成│还│西│限│江│　║')\n",
    "print('║　│生│明│霰│见│轮│人│似│水│愁│楼│台│来│君│文│家│斜│路│树│　║')\n",
    "print('║　│。│。│。│。│。│？│。│。│。│？│。│。│。│。│。│。│。│。│　║')\n",
    "print('║　│　│　│　│　│　│　│　│　│　│　│　│　│　│　│　│　│　│　│　║')\n",
    "print('║　│　│　│　│　│　│　│　│　│　│　│　│　│　│　│　│　│　│　│　║')\n",
    "print('╚═╧═╧═╧═╧═╧═╧═╧═╧═╧═╧═╧═╧═╧═╧═╧═╧═╧═╧═╧═╝')"
   ]
  },
  {
   "cell_type": "markdown",
   "metadata": {},
   "source": [
    "### python 程序中，中文支持\n",
    "python3 中，是默认支持中文的，但是在 python2 中就需要一定的额外操作才可以\n",
    "\n",
    "python2 中，如果直接在程序中用到了中文，比如\n",
    "```python\n",
    "print('你好')\n",
    "```\n",
    "\n",
    "如果直接运行输出，程序会出错：\n",
    "![f2c9d6fe80cf140b4cb58adc45f5561d.png](en-resource://database/15103:1)\n",
    "\n",
    "解决的办法为：在程序的开头写入如下代码，这就是中文注释\n",
    "```python\n",
    "#coding=utf-8\n",
    "```\n",
    "\n",
    "修改之后的程序：\n",
    "```python\n",
    "#coding=utf-8\n",
    "print('你好')\n",
    "```\n",
    "\n",
    "运行结果：\n",
    "```\n",
    "你好\n",
    "```\n",
    "\n",
    "注意：在python的语法规范中推荐使用的方式：\n",
    "```python\n",
    "# -*- coding:utf-8 -*-\n",
    "```\n"
   ]
  },
  {
   "cell_type": "markdown",
   "metadata": {
    "toc-hr-collapsed": true
   },
   "source": [
    "# 变量以及类型"
   ]
  },
  {
   "cell_type": "markdown",
   "metadata": {},
   "source": [
    "## 变量的定义\n",
    "在程序中，有时我们需要对 2 个数据进行求和，那么该怎样做呢？\n",
    "\n",
    "大家类比一下现实生活中，比如去超市买东西，往往咱们需要一个菜篮子，用来进行存储物品，等到所有的物品都购买完成后，在收银台进行结账即可\n",
    "\n",
    "如果在程序中，需要把 2 个数据，或者多个数据进行求和的话，那么就需要把这些数据先存储起来，然后把它们累加起来即可\n",
    "\n",
    "在 Python 中，存储一个数据，需要一个叫做变量的东西，如下示例："
   ]
  },
  {
   "cell_type": "code",
   "execution_count": 9,
   "metadata": {},
   "outputs": [],
   "source": [
    "num1 = 100 #num1就是一个变量，就好一个小菜篮子\n",
    "\n",
    "num2 = 87  #num2也是一个变量\n",
    "\n",
    "result = num1 + num2 #把num1和num2这两个\"菜篮子\"中的数据进行累加，然后放到 result变量中"
   ]
  },
  {
   "cell_type": "markdown",
   "metadata": {},
   "source": [
    "说明：\n",
    "\n",
    "* 所谓变量，可以理解为菜篮子，如果需要存储多个数据，最简单的方式是有多个变量，当然了也可以使用一个\n",
    "* 程序就是用来处理数据的，而变量就是用来存储数据的\n",
    "\n",
    "想一想：我们应该让变量占用多大的空间，保存什么样的数据"
   ]
  },
  {
   "cell_type": "markdown",
   "metadata": {},
   "source": [
    "## 变量的类型\n",
    "为了更充分的利用内存空间以及更有效率的管理内存，变量是有不同的类型的，如下所示：\n",
    "![5afe098c2a87808865bdc1f769273763.png](en-resource://database/15107:1)\n",
    "\n",
    "怎样知道一个变量的类型呢？\n",
    "\n",
    "* 在 python 中，只要定义了一个变量，而且它有数据，那么它的类型就已经确定了，不需要咱们开发者主动的去说明它的类型，系统会自动辨别\n",
    "* 可以使用 type（变量的名字），来查看变量的类型"
   ]
  },
  {
   "cell_type": "markdown",
   "metadata": {},
   "source": [
    "## 标识符和关键字"
   ]
  },
  {
   "cell_type": "markdown",
   "metadata": {},
   "source": [
    "### 标识符\n",
    "什么是标识符，看下图：\n",
    "![eb0d1c1bddcd035caab4795505582394.png](en-resource://database/15109:1)\n",
    "> 开发人员在程序中自定义的一些符号和名称\n",
    ">\n",
    "> 标识符是自己定义的，如变量名 、函数名等"
   ]
  },
  {
   "cell_type": "markdown",
   "metadata": {},
   "source": [
    "### 标识符的规则\n",
    "标识符由字母、下划线和数字组成，且数字不能开头\n",
    "> 思考：下面的标识符哪些是正确的，哪些不正确为什么\n",
    "> \n",
    "> fromNo12\n",
    ">\n",
    "> from#12\n",
    ">\n",
    "> my_Boolean\n",
    ">\n",
    "> my-Boolean\n",
    ">\n",
    "> Obj2\n",
    ">\n",
    "> 2ndObj\n",
    ">\n",
    "> myInt\n",
    ">\n",
    "> test1\n",
    ">\n",
    "> Mike2jack\n",
    ">\n",
    "> My_tExt\n",
    ">\n",
    "> _test\n",
    ">\n",
    "> test!32\n",
    ">\n",
    "> haha(da)tt\n",
    ">\n",
    "> int\n",
    ">\n",
    "> jack_rose\n",
    ">\n",
    "> jack&rose\n",
    ">\n",
    "> GUI\n",
    ">\n",
    "> G.U.I\n",
    "   \n",
    "\n",
    "python 中的标识符是区分大小写的\n",
    "![13931ac98889eaeaa488300355185b9a.png](en-resource://database/15111:1)\n"
   ]
  },
  {
   "cell_type": "markdown",
   "metadata": {},
   "source": [
    "## 命名规则\n",
    "见名知意：起一个有意义的名字，尽量做到看一眼就知道是什么意思（提高代码可读性）比如：名 就定义为 name , 定义学生用 student\n",
    "\n",
    "驼峰命名法\n",
    "![14d49c97fecd748e89fb9150f9f61dcb.png](en-resource://database/15113:1)\n",
    "> 小驼峰式命名法（lower camel case）： 第一个单词以小写字母开始；第二个单词的首字母大写，例如：myName、aDog\n",
    "> \n",
    "> 大驼峰式命名法（upper camel case）： 每一个单字的首字母都采用大写字母，例如：FirstName、LastName\n",
    "> \n",
    "> 还有一种命名法是用下划线 `_` 来连接所有的单词，比如 `send_buf`，\n",
    ">   > Python 的命令规则遵循 PEP8 标准，这个在后面会慢慢讲到。"
   ]
  },
  {
   "cell_type": "markdown",
   "metadata": {},
   "source": [
    "## 关键字\n",
    "什么是关键字\n",
    "\n",
    "* python 一些具有特殊功能的标识符，这就是所谓的关键字\n",
    "* 关键字，是 python 已经使用的了，所以不允许开发者自己定义和关键字相同的名字的标识符\n",
    "\n",
    "查看关键字：\n",
    "\n",
    "and     as      assert     break     class      continue    def     del\n",
    "elif    else    except     exec      finally    for         from    global\n",
    "if      in      import     is        lambda     not         or      pass\n",
    "print   raise   return     try       while      with        yield\n",
    "\n",
    "可以在 Python Shell 通过以下命令进行查看当前系统中 python 的关键字\n",
    "![656d4c2ff115c0003864b45b9f8c15f6.png](en-resource://database/15115:1)"
   ]
  },
  {
   "cell_type": "code",
   "execution_count": 11,
   "metadata": {
    "collapsed": true,
    "jupyter": {
     "outputs_hidden": true
    }
   },
   "outputs": [
    {
     "data": {
      "text/plain": [
       "['False',\n",
       " 'None',\n",
       " 'True',\n",
       " 'and',\n",
       " 'as',\n",
       " 'assert',\n",
       " 'async',\n",
       " 'await',\n",
       " 'break',\n",
       " 'class',\n",
       " 'continue',\n",
       " 'def',\n",
       " 'del',\n",
       " 'elif',\n",
       " 'else',\n",
       " 'except',\n",
       " 'finally',\n",
       " 'for',\n",
       " 'from',\n",
       " 'global',\n",
       " 'if',\n",
       " 'import',\n",
       " 'in',\n",
       " 'is',\n",
       " 'lambda',\n",
       " 'nonlocal',\n",
       " 'not',\n",
       " 'or',\n",
       " 'pass',\n",
       " 'raise',\n",
       " 'return',\n",
       " 'try',\n",
       " 'while',\n",
       " 'with',\n",
       " 'yield']"
      ]
     },
     "execution_count": 11,
     "metadata": {},
     "output_type": "execute_result"
    }
   ],
   "source": [
    "import keyword\n",
    "keyword.kwlist"
   ]
  },
  {
   "cell_type": "markdown",
   "metadata": {},
   "source": [
    "关键字的学习以及使用，咱们会在后面的课程中依一一进行学习。"
   ]
  },
  {
   "cell_type": "markdown",
   "metadata": {
    "toc-hr-collapsed": true
   },
   "source": [
    "# 输出"
   ]
  },
  {
   "cell_type": "markdown",
   "metadata": {},
   "source": [
    "## 普通的输出\n",
    "python 中变量的输出"
   ]
  },
  {
   "cell_type": "code",
   "execution_count": 13,
   "metadata": {},
   "outputs": [
    {
     "name": "stdout",
     "output_type": "stream",
     "text": [
      "hello world\n",
      "萨瓦迪卡---泰语，你好的意思\n"
     ]
    }
   ],
   "source": [
    "# 打印提示\n",
    "print('hello world')\n",
    "print('萨瓦迪卡---泰语，你好的意思')"
   ]
  },
  {
   "cell_type": "markdown",
   "metadata": {},
   "source": [
    "## 格式化输出"
   ]
  },
  {
   "cell_type": "markdown",
   "metadata": {},
   "source": [
    "### 格式化操作的目的\n",
    "比如有以下代码：\n",
    "```python\n",
    "pirnt(\"我今年10岁\")\n",
    "pirnt(\"我今年11岁\")\n",
    "pirnt(\"我今年12岁\")\n",
    "    ...\n",
    "```\n",
    "\n",
    "想一想：在输出年龄的时候，用了多次\"我今年xx岁\"，能否简化一下程序呢？？？\n",
    "答：字符串格式化"
   ]
  },
  {
   "cell_type": "markdown",
   "metadata": {},
   "source": [
    "### 什么是格式化\n",
    "看如下代码：\n",
    "```python\n",
    "age = 10\n",
    "print(\"我今年%d岁\" % age)\n",
    "\n",
    "age += 1\n",
    "print(\"我今年%d岁\" % age)\n",
    "\n",
    "age += 1\n",
    "print(\"我今年%d岁\" % age)\n",
    "\n",
    "...\n",
    "```\n",
    "\n",
    "在程序中，看到了 `%` 这样的操作符，这就是 Python 中格式化输出。"
   ]
  },
  {
   "cell_type": "code",
   "execution_count": 15,
   "metadata": {},
   "outputs": [
    {
     "name": "stdout",
     "output_type": "stream",
     "text": [
      "我的姓名是 xiaohua, 年龄是 18\n"
     ]
    }
   ],
   "source": [
    "age = 18\n",
    "name = \"xiaohua\"\n",
    "print(\"我的姓名是 %s, 年龄是 %d\" % (name, age))"
   ]
  },
  {
   "cell_type": "markdown",
   "metadata": {},
   "source": [
    "### 常用的格式符号\n",
    "下面是完整的，它可以与 `％` 符号使用列表：\n",
    "\n",
    "| 格式符号 | 转换 |\n",
    "| --- | --- |\n",
    "| `%c` | 字符 |\n",
    "| `%s` | 字符串 |\n",
    "| `%d` | 有符号十进制整数 |\n",
    "| `%u` | 无符号十进制整数 |\n",
    "| `%o` | 八进制整数 |\n",
    "| `%x` | 十六进制整数（小写字母 `0x`） |\n",
    "| `%X` | 十六进制整数（大写字母 `0X`） |\n",
    "| `%f` | 浮点数 |\n",
    "| `%e` | 科学计数法（小写 `e`） |\n",
    "| `%E` | 科学计数法（大写 `E`） |\n",
    "| `%g` | `％f` 和 `％e`  的简写 |\n",
    "| `%G` | `％f` 和 `％E` 的简写 |\n"
   ]
  },
  {
   "cell_type": "markdown",
   "metadata": {},
   "source": [
    "## 换行输出\n",
    "在输出的时候，如果有 `\\n` 那么，此时 `\\n` 后的内容会在另外一行显示"
   ]
  },
  {
   "cell_type": "code",
   "execution_count": 16,
   "metadata": {},
   "outputs": [
    {
     "name": "stdout",
     "output_type": "stream",
     "text": [
      "1234567890-------\n",
      "1234567890\n",
      "-------\n"
     ]
    }
   ],
   "source": [
    "print(\"1234567890-------\") # 会在一行显示\n",
    "\n",
    "print(\"1234567890\\n-------\") # 一行显示1234567890，另外一行显示-------"
   ]
  },
  {
   "cell_type": "markdown",
   "metadata": {},
   "source": [
    "## 练一练\n",
    "编写代码完成以下名片的显示\n",
    "```\n",
    "   ==========我的名片==========\n",
    "    姓名: itheima   \n",
    "    QQ:xxxxxxx\n",
    "    手机号:185xxxxxx\n",
    "    公司地址:北京市xxxx\n",
    "    ===========================\n",
    "```"
   ]
  },
  {
   "cell_type": "markdown",
   "metadata": {
    "toc-hr-collapsed": true
   },
   "source": [
    "# 输入"
   ]
  },
  {
   "cell_type": "markdown",
   "metadata": {},
   "source": [
    "## python2 版本中"
   ]
  },
  {
   "cell_type": "markdown",
   "metadata": {},
   "source": [
    "### `raw_input()`\n",
    "在 Python 中，获取键盘输入的数据的方法是采用 `raw_input` 函数（至于什么是函数，咱们以后的章节中讲解），那么这个 `raw_input` 怎么用呢？\n",
    "\n",
    "看如下示例：\n",
    "```python\n",
    "password = raw_input(\"请输入密码:\")\n",
    "print('您刚刚输入的密码是:%d' % password)\n",
    "```\n",
    "\n",
    "运行结果：\n",
    "![0cfbc3484e8b705bae3134fe719bce46.png](en-resource://database/15121:1)\n",
    "\n",
    "注意：\n",
    "\n",
    "* `raw_input()` 的小括号中放入的是，提示信息，用来在获取数据之前给用户的一个简单提示\n",
    "* `raw_input()` 在从键盘获取了数据以后，会存放到等号右边的变量中\n",
    "* `raw_input()` 会把用户输入的任何值都作为字符串来对待"
   ]
  },
  {
   "cell_type": "markdown",
   "metadata": {},
   "source": [
    "### `input()`\n",
    "`input()` 函数与 `raw_input()` 类似，但其接受的输入必须是表达式。\n",
    "```python\n",
    ">>> a = input() \n",
    "123>>> a\n",
    "123>>> type(a)\n",
    "<type 'int'>\n",
    ">>> a = input()\n",
    "abc\n",
    "Traceback (most recent call last):\n",
    "  File \"<stdin>\", line 1, in <module>\n",
    "  File \"<string>\", line 1, in <module>\n",
    "NameError: name 'abc' is not defined\n",
    ">>> a = input()\n",
    "\"abc\">>> a\n",
    "'abc'>>> type(a)\n",
    "<type 'str'>\n",
    ">>> a = input()\n",
    "1+3>>> a\n",
    "4>>> a = input()\n",
    "\"abc\"+\"def\">>> a\n",
    "'abcdef'>>> value = 100>>> a = input()\n",
    "value\n",
    ">>> a\n",
    "100\n",
    "```\n",
    "> `input()` 接受表达式输入，并把表达式的结果赋值给等号左边的变量"
   ]
  },
  {
   "cell_type": "markdown",
   "metadata": {},
   "source": [
    "## python3 版本中\n",
    "没有 `raw_input()` 函数，只有 `input()`\n",
    "\n",
    "并且 python3 中的 `input` 与 python2 中的 `raw_input()` 功能一样"
   ]
  },
  {
   "cell_type": "markdown",
   "metadata": {
    "toc-hr-collapsed": true
   },
   "source": [
    "# 运算符\n",
    "python 支持以下几种运算符"
   ]
  },
  {
   "cell_type": "markdown",
   "metadata": {},
   "source": [
    "## 算术运算符\n",
    "下面以 `a=10, b=20` 为例进行计算\n",
    "\n",
    "| 运算符 | 描述 | 实例 |\n",
    "| --- | --- | --- |\n",
    "| `+` | 加 | 两个对象相加 a + b 输出结果 30 |\n",
    "| `-` | 减 | 得到负数或是一个数减去另一个数 a - b 输出结果 -10 |\n",
    "| `*` | 乘 | 两个数相乘或是返回一个被重复若干次的字符串 a * b 输出结果 200 |\n",
    "| `/` | 除 | b / a 输出结果 2 |\n",
    "| `//` | 取整除 | 返回商的整数部分 9 // 2 输出结果 4，9.0 // 2.0 输出结果 4.0 |\n",
    "| `%` | 取余 | 返回除法的余数 b % a 输出结果 0 |\n",
    "| `**` | 指数 | a\\*\\*b 为 10 的 20 次方，输出结果 100000000000000000000 |\n",
    "> 注意：混合运算时，优先级顺序为：`**` 高于 `*` `/` `%` `//` 高于 `+`  `-` ，为了避免歧义，建议使用 `()` 来处理运算符优先级。并且，不同类型的数字在进行混合运算时，整数将会转换成浮点数进行运算。"
   ]
  },
  {
   "cell_type": "code",
   "execution_count": 17,
   "metadata": {},
   "outputs": [
    {
     "data": {
      "text/plain": [
       "21.0"
      ]
     },
     "execution_count": 17,
     "metadata": {},
     "output_type": "execute_result"
    }
   ],
   "source": [
    "10 + 5.5 * 221.0\n",
    "10 + (5.5 * 2)"
   ]
  },
  {
   "cell_type": "markdown",
   "metadata": {},
   "source": [
    "## 赋值运算符\n",
    "| 运算符 | 描述 | 实例 |\n",
    "| --- | --- | --- |\n",
    "| `=` | 赋值运算符 | 把 = 号右边的结果赋给左边的变量，如 `num = 1 + 2 * 3`，结果 `num` 的值为 7 |\n"
   ]
  },
  {
   "cell_type": "code",
   "execution_count": 18,
   "metadata": {},
   "outputs": [
    {
     "data": {
      "text/plain": [
       "10"
      ]
     },
     "execution_count": 18,
     "metadata": {},
     "output_type": "execute_result"
    }
   ],
   "source": [
    "# 单个变量赋值\n",
    "num = 10\n",
    "num"
   ]
  },
  {
   "cell_type": "code",
   "execution_count": 20,
   "metadata": {},
   "outputs": [
    {
     "data": {
      "text/plain": [
       "100"
      ]
     },
     "execution_count": 20,
     "metadata": {},
     "output_type": "execute_result"
    }
   ],
   "source": [
    "# 多个变量赋值\n",
    "num1, num2, f1, str1 = 100, 200, 3.14, \"hello\"\n",
    "num1"
   ]
  },
  {
   "cell_type": "code",
   "execution_count": 21,
   "metadata": {},
   "outputs": [
    {
     "data": {
      "text/plain": [
       "200"
      ]
     },
     "execution_count": 21,
     "metadata": {},
     "output_type": "execute_result"
    }
   ],
   "source": [
    "num2"
   ]
  },
  {
   "cell_type": "code",
   "execution_count": 22,
   "metadata": {},
   "outputs": [
    {
     "data": {
      "text/plain": [
       "3.14"
      ]
     },
     "execution_count": 22,
     "metadata": {},
     "output_type": "execute_result"
    }
   ],
   "source": [
    "f1"
   ]
  },
  {
   "cell_type": "code",
   "execution_count": 23,
   "metadata": {},
   "outputs": [
    {
     "data": {
      "text/plain": [
       "'hello'"
      ]
     },
     "execution_count": 23,
     "metadata": {},
     "output_type": "execute_result"
    }
   ],
   "source": [
    "str1"
   ]
  },
  {
   "cell_type": "markdown",
   "metadata": {},
   "source": [
    "复合赋值运算符：\n",
    "\n",
    "| 运算符 | 描述 | 实例 |\n",
    "| --- | --- | --- |\n",
    "| `+=` | 加法赋值运算符 `c += a` 等效于 `c = c + a` |\n",
    "| `-=` | 减法赋值运算符 `c -= a` 等效于 `c = c - a` |\n",
    "| `*=` | 乘法赋值运算符 `c *= a` 等效于 `c = c * a` |\n",
    "| `/=` | 除法赋值运算符 `c /= a` 等效于 `c = c / a` |\n",
    "| `%=` | 取模赋值运算符 `c %= a` 等效于 `c = c % a` |\n",
    "| `**=` | 幂赋值运算符 `c **= a` 等效于 `c = c ** a` |\n",
    "| `//=` | 取整除赋值运算符 `c //= a` 等效于 `c = c // a` |"
   ]
  },
  {
   "cell_type": "markdown",
   "metadata": {
    "toc-hr-collapsed": true
   },
   "source": [
    "# 数据类型转换"
   ]
  },
  {
   "cell_type": "markdown",
   "metadata": {},
   "source": [
    "## 常用的数据类型转换\n",
    "| 函数 | 说明 |\n",
    "| --- | --- |\n",
    "| `int(x,[base])` | 将 `x` 转换为一个整数 |\n",
    "| `float(x)` | 将 `x` 转换为一个浮点数 |\n",
    "| `complex(real,[imag])` | 创建一个复数，`real` 为实部，`imag` 为虚部 |\n",
    "| `str(x)` | 将对象 `x` 转换为字符串 |\n",
    "| `repr(x)` | 将对象 `x` 转换为表达式字符串 |\n",
    "| `eval(str)` | 用来计算在字符串中的有效 Python 表达式，并返回一个对象 |\n",
    "| `tuple(s)` | 将序列 `s` 转换为一个元组 |\n",
    "| `list(s)` | 将序列 `s` 转换为一个列表 |\n",
    "| `chr(x)` | 将一个整数转换为一个 Unicode 字符 |\n",
    "| `ord(x)` | 将一个字符转换为它的 ASCII 整数值 |\n",
    "| `hex(x)` | 将一个整数转换为一个十六进制字符串 |\n",
    "| `oct(x)` | 将一个整数转换为一个八进制字符串 |\n",
    "| `bin(x)` | 将一个整数转换为一个二进制字符串 |"
   ]
  },
  {
   "cell_type": "markdown",
   "metadata": {},
   "source": [
    "## 举例"
   ]
  },
  {
   "cell_type": "code",
   "execution_count": 25,
   "metadata": {},
   "outputs": [],
   "source": [
    "# int(): 将数据转换为 int 类型\n",
    "str1 = \"10\""
   ]
  },
  {
   "cell_type": "code",
   "execution_count": 26,
   "metadata": {},
   "outputs": [],
   "source": [
    "# int() 默认按 10 进制转换后显示\n",
    "num1 = int(str1)"
   ]
  },
  {
   "cell_type": "code",
   "execution_count": 27,
   "metadata": {},
   "outputs": [
    {
     "name": "stdout",
     "output_type": "stream",
     "text": [
      "3\n"
     ]
    }
   ],
   "source": [
    "# int() 处理浮点数，只留下整数部分，舍弃小数部分（并不是四舍五入操作）\n",
    "num2 = int(3.74)\n",
    "print(num2)\n",
    "\"\"\"\n",
    "num1 = int(str1, 8) # 第二个参数为8，表示按8进制转换后显示，结果为 8\n",
    "num1 = int(str1, 16) # # 第二个参数为16，表示按16进制转换后显示，结果为 16\n",
    "#01 02 03 04 05 06 07 10\n",
    "#01 02 ... 0B 0C 0D 0E 0F 10\n",
    "print(num1)\n",
    "\"\"\""
   ]
  },
  {
   "cell_type": "code",
   "execution_count": 32,
   "metadata": {},
   "outputs": [
    {
     "name": "stdout",
     "output_type": "stream",
     "text": [
      "<class 'float'>\n",
      "10.0\n"
     ]
    }
   ],
   "source": [
    "# float() 将数据转化为浮点数\n",
    "str2 = \"3.14\"\n",
    "f1 = float(str2)\n",
    "print(type(f1))\n",
    "f2 = float(10)\n",
    "print(f2)"
   ]
  },
  {
   "cell_type": "code",
   "execution_count": 33,
   "metadata": {},
   "outputs": [
    {
     "name": "stdout",
     "output_type": "stream",
     "text": [
      "(10+4j)\n",
      "(10+4j)\n"
     ]
    }
   ],
   "source": [
    "# complex() 创建复数: 第一个参数是复数的实部，第二个参数是复数的虚部\n",
    "c1 = 10 + 4j\n",
    "c2 = complex(10, 4)\n",
    "print(c1)\n",
    "print(c2) # 等同与c1"
   ]
  },
  {
   "cell_type": "code",
   "execution_count": 34,
   "metadata": {},
   "outputs": [
    {
     "name": "stdout",
     "output_type": "stream",
     "text": [
      "<class 'str'>\n",
      "<class 'str'>\n"
     ]
    }
   ],
   "source": [
    "# str() : 转换为字符串类型\n",
    "num1 = 10\n",
    "f1 = 3.14\n",
    "print(type(str(num1)))\n",
    "print(type(str(f1)))"
   ]
  },
  {
   "cell_type": "code",
   "execution_count": 35,
   "metadata": {},
   "outputs": [
    {
     "name": "stdout",
     "output_type": "stream",
     "text": [
      "<class 'str'>\n"
     ]
    }
   ],
   "source": [
    "# repr()：转换为表达式字符串\n",
    "num1 = 10\n",
    "print(type(repr(num1)))"
   ]
  },
  {
   "cell_type": "code",
   "execution_count": 37,
   "metadata": {},
   "outputs": [
    {
     "name": "stdout",
     "output_type": "stream",
     "text": [
      "<class 'float'>\n",
      "<class 'list'>\n"
     ]
    }
   ],
   "source": [
    "# eval(): 将字符串形式的数据，转换为原本的类型\n",
    "str1 = \"3.14\"\n",
    "print(type(eval(str1)))\n",
    "str2 = \"[10, 20, 30]\"\n",
    "l = eval(str2)\n",
    "print(type(l))"
   ]
  },
  {
   "cell_type": "code",
   "execution_count": 38,
   "metadata": {},
   "outputs": [
    {
     "name": "stdout",
     "output_type": "stream",
     "text": [
      "Щ\n"
     ]
    }
   ],
   "source": [
    "# chr: 将一个整数转换为对应的 Unicode 字符\n",
    "s = chr(1065)\n",
    "print(s)"
   ]
  },
  {
   "cell_type": "code",
   "execution_count": 40,
   "metadata": {},
   "outputs": [
    {
     "name": "stdout",
     "output_type": "stream",
     "text": [
      "65\n"
     ]
    }
   ],
   "source": [
    "# ord ：将一个字符转换为对应的字符编码数字\n",
    "n = ord(\"A\")\n",
    "print(n)"
   ]
  },
  {
   "cell_type": "code",
   "execution_count": 41,
   "metadata": {},
   "outputs": [
    {
     "name": "stdout",
     "output_type": "stream",
     "text": [
      "0b10000000000\n"
     ]
    }
   ],
   "source": [
    "# bin: 将一个整数转换为二进制\n",
    "print(bin(1024)) # 0b 开头表示二进制数"
   ]
  },
  {
   "cell_type": "code",
   "execution_count": 42,
   "metadata": {},
   "outputs": [
    {
     "name": "stdout",
     "output_type": "stream",
     "text": [
      "0o2000\n"
     ]
    }
   ],
   "source": [
    "# oct：将一个整数转换为八进制\n",
    "print(oct(1024)) # 0o 开头表示八进制数"
   ]
  },
  {
   "cell_type": "code",
   "execution_count": 43,
   "metadata": {},
   "outputs": [
    {
     "name": "stdout",
     "output_type": "stream",
     "text": [
      "0x400\n"
     ]
    }
   ],
   "source": [
    "# hex: 将一个整数转换为十六进制\n",
    "print(hex(1024)) # 0x 开头表示十六进制"
   ]
  },
  {
   "cell_type": "markdown",
   "metadata": {},
   "source": [
    "## 附录：常用字符与 ASCII 码对照表\n",
    "![1eb9ec21f2c04ae579a200a87a3e7f93.png](en-resource://database/15123:1)"
   ]
  },
  {
   "cell_type": "code",
   "execution_count": null,
   "metadata": {},
   "outputs": [],
   "source": []
  }
 ],
 "metadata": {
  "kernelspec": {
   "display_name": "Python 3",
   "language": "python",
   "name": "python3"
  },
  "language_info": {
   "codemirror_mode": {
    "name": "ipython",
    "version": 3
   },
   "file_extension": ".py",
   "mimetype": "text/x-python",
   "name": "python",
   "nbconvert_exporter": "python",
   "pygments_lexer": "ipython3",
   "version": "3.7.3"
  },
  "toc-autonumbering": true,
  "toc-showcode": false,
  "toc-showmarkdowntxt": false,
  "toc-showtags": false
 },
 "nbformat": 4,
 "nbformat_minor": 4
}
