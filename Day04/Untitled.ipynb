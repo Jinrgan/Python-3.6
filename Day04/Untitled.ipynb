{
 "cells": [
  {
   "cell_type": "code",
   "execution_count": 1,
   "metadata": {},
   "outputs": [],
   "source": [
    "class Hero(object):\n",
    "\n",
    "    # 初始化对象\n",
    "    def __init__(self, name, hp, atk, armor):\n",
    "\n",
    "        self.name = name # 姓名\n",
    "        self.hp = hp  # 生命值\n",
    "        self.atk = atk  # 攻击力\n",
    "        self.armor = armor  # 护甲值\n",
    "\n",
    "    \"\"\"定义了一个英雄类，可以移动和攻击\"\"\"\n",
    "    def move(self):\n",
    "        \"\"\"实例方法\"\"\"\n",
    "        print(\"正在前往事发地点...\")\n",
    "\n",
    "    def attack(self):\n",
    "        \"\"\"实例方法\"\"\"\n",
    "        print(\"发出了一招强力的普通攻击...\")\n",
    "\n",
    "    def info(self):\n",
    "        print(\" %s 的生命值为 %s\" %(self.name, self.hp))\n",
    "        print(\" %s 的攻击力为 %s\" % (self.name, self.atk))\n",
    "        print(\" %s 的护甲值为 %s\" % (self.name, self.armor))\n",
    "\n",
    "    def __str__(self):\n",
    "        '''\n",
    "\n",
    "          这个方法是一个魔法方法 (Magic Method) ，用来显示信息\n",
    "            该方法需要 return 一个数据，并且只有self一个参数，当在类的外部 print(对象) 则打印这个数据\n",
    "        :return:\n",
    "        '''\n",
    "        return \"英雄 <%s> 数据： 生命值 %d, 攻击力 %d, 护甲值 %d\" % (self.name, self.hp, self.atk, self.armor)\n",
    "\n",
    "\n",
    "\n",
    "\n",
    "\n"
   ]
  },
  {
   "cell_type": "code",
   "execution_count": 2,
   "metadata": {},
   "outputs": [
    {
     "name": "stdout",
     "output_type": "stream",
     "text": [
      "英雄 <泰达米尔> 数据： 生命值 2600, 攻击力 450, 护甲值 200\n"
     ]
    }
   ],
   "source": [
    "# 实例化了一个英雄对象 泰达米尔\n",
    "taidamier = Hero(\"泰达米尔\",2600,450,200)\n",
    "print(taidamier)"
   ]
  },
  {
   "cell_type": "code",
   "execution_count": 3,
   "metadata": {},
   "outputs": [
    {
     "name": "stdout",
     "output_type": "stream",
     "text": [
      " 泰达米尔 的生命值为 2600\n",
      " 泰达米尔 的攻击力为 450\n",
      " 泰达米尔 的护甲值为 200\n"
     ]
    }
   ],
   "source": [
    "# 通过.成员选择运算符，获取对象的属性值\n",
    "taidamier.info()"
   ]
  },
  {
   "cell_type": "code",
   "execution_count": 4,
   "metadata": {},
   "outputs": [
    {
     "name": "stdout",
     "output_type": "stream",
     "text": [
      "正在前往事发地点...\n",
      "发出了一招强力的普通攻击...\n",
      " 泰达米尔 的生命值为 2600\n",
      " 泰达米尔 的攻击力为 450\n",
      " 泰达米尔 的护甲值为 200\n"
     ]
    }
   ],
   "source": [
    "# 通过.成员选择运算符，获取对象的实例方法\n",
    "taidamier.move()\n",
    "taidamier.attack()\n",
    "taidamier.info()\n"
   ]
  },
  {
   "cell_type": "code",
   "execution_count": null,
   "metadata": {},
   "outputs": [],
   "source": []
  }
 ],
 "metadata": {
  "kernelspec": {
   "display_name": "Python 3",
   "language": "python",
   "name": "python3"
  },
  "language_info": {
   "codemirror_mode": {
    "name": "ipython",
    "version": 3
   },
   "file_extension": ".py",
   "mimetype": "text/x-python",
   "name": "python",
   "nbconvert_exporter": "python",
   "pygments_lexer": "ipython3",
   "version": "3.7.3"
  }
 },
 "nbformat": 4,
 "nbformat_minor": 4
}
